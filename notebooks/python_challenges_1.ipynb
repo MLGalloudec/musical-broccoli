{
 "cells": [
  {
   "cell_type": "markdown",
   "metadata": {},
   "source": [
    "This notebook contains some coding guidance and challenges for learning python data structures, and functions"
   ]
  },
  {
   "cell_type": "markdown",
   "metadata": {},
   "source": [
    "This is a jupyter notebook - which is not quite a python file. There are boring and complicated differences we will come to - but there are two key differences we're interested in to start with.\n",
    "\n",
    "## Difference 1: We can run cells.\n",
    "\n",
    "Cells in the notebook can be run individually rather than having to run the whole code block. This is good for prototyping code, but can lead to problems if you start running the cells out of order."
   ]
  },
  {
   "cell_type": "code",
   "execution_count": 1,
   "metadata": {},
   "outputs": [
    {
     "name": "stdout",
     "output_type": "stream",
     "text": [
      "I have been run\n"
     ]
    }
   ],
   "source": [
    "# run me please - the shortcut is either shift+enter or ctrl+enter\n",
    "print('I have been run')"
   ]
  },
  {
   "cell_type": "markdown",
   "metadata": {},
   "source": [
    "## Difference 2: Magic commands\n",
    "The jupyter runtime allows us access to 'magic' commands which extend the functionality of the notebook. These look like '%magic'. Some of them are useful (%env tells us all the environment vars), and some are dangerous (%pastebin publicly uploads your code to pastebin). We'll mainly be using %timeit (see https://ipython.readthedocs.io/en/stable/interactive/magics.html#magic-timeit for the difference between %timeit and %%timeit)"
   ]
  },
  {
   "cell_type": "code",
   "execution_count": 2,
   "metadata": {},
   "outputs": [
    {
     "name": "stdout",
     "output_type": "stream",
     "text": [
      "7.23 ns ± 0.248 ns per loop (mean ± std. dev. of 7 runs, 100,000,000 loops each)\n"
     ]
    }
   ],
   "source": [
    "%timeit 3+5"
   ]
  },
  {
   "cell_type": "code",
   "execution_count": 3,
   "metadata": {},
   "outputs": [
    {
     "name": "stdout",
     "output_type": "stream",
     "text": [
      "7.1 ns ± 0.0921 ns per loop (mean ± std. dev. of 7 runs, 100,000,000 loops each)\n"
     ]
    }
   ],
   "source": [
    "%%timeit\n",
    "3+5"
   ]
  },
  {
   "cell_type": "markdown",
   "metadata": {},
   "source": [
    "# Base Python Operators\n",
    "At its core, python exists on top of these base logical operators. Many of them you'll never ever use - but it's good to be familiar with the most common. The actual definition of a logical operator is reasonably tedious, but fundamentally they answer logical questions:\n",
    "\n",
    "https://www.tutorialspoint.com/python/python_operators.htm"
   ]
  },
  {
   "cell_type": "code",
   "execution_count": 18,
   "metadata": {},
   "outputs": [
    {
     "data": {
      "text/plain": [
       "True"
      ]
     },
     "execution_count": 18,
     "metadata": {},
     "output_type": "execute_result"
    }
   ],
   "source": [
    "# are these two things equal to each other? \n",
    "3 == 3"
   ]
  },
  {
   "cell_type": "code",
   "execution_count": 19,
   "metadata": {},
   "outputs": [
    {
     "data": {
      "text/plain": [
       "False"
      ]
     },
     "execution_count": 19,
     "metadata": {},
     "output_type": "execute_result"
    }
   ],
   "source": [
    "# what about these two?\n",
    "3 == '3'"
   ]
  },
  {
   "cell_type": "code",
   "execution_count": 20,
   "metadata": {},
   "outputs": [
    {
     "data": {
      "text/plain": [
       "5"
      ]
     },
     "execution_count": 20,
     "metadata": {},
     "output_type": "execute_result"
    }
   ],
   "source": [
    "# what is three plus two?\n",
    "3 + 2"
   ]
  },
  {
   "cell_type": "code",
   "execution_count": 22,
   "metadata": {},
   "outputs": [
    {
     "data": {
      "text/plain": [
       "1"
      ]
     },
     "execution_count": 22,
     "metadata": {},
     "output_type": "execute_result"
    }
   ],
   "source": [
    "# a less boring operator: modulus tells you the remainder from dividing the first number by the second\n",
    "3%2"
   ]
  },
  {
   "cell_type": "code",
   "execution_count": 23,
   "metadata": {},
   "outputs": [
    {
     "data": {
      "text/plain": [
       "0"
      ]
     },
     "execution_count": 23,
     "metadata": {},
     "output_type": "execute_result"
    }
   ],
   "source": [
    "9%3"
   ]
  },
  {
   "cell_type": "markdown",
   "metadata": {},
   "source": [
    "Another common data structure in python is the list. A list is an array, which is data with some intrinsic ordering. Lists are denoted in python with [], and can contain basically anything. They also have a number of methods that can operate on them. See below for the most common. (NOTE: it's good practice in python to keep lists generally containing the same sort of data. If you start mixing in strings with numbers and booleans without good reason, we're going to have a fight).\n",
    "\n",
    "You can also put lists in lists, and then lists into those - so beginning the descent into madness. If you start doing this, consider whether the logic of your code is sound, or you'd be better with a different data structure."
   ]
  },
  {
   "cell_type": "code",
   "execution_count": 24,
   "metadata": {},
   "outputs": [
    {
     "data": {
      "text/plain": [
       "[1, 2, 3, 4, 5]"
      ]
     },
     "execution_count": 24,
     "metadata": {},
     "output_type": "execute_result"
    }
   ],
   "source": [
    "# a list of integers:\n",
    "[1,2,3,4,5]"
   ]
  },
  {
   "cell_type": "code",
   "execution_count": 25,
   "metadata": {},
   "outputs": [],
   "source": [
    "# assigning the list to a variable - note in MLG's opinion it's not a good idea to name things with the word 'list'. If you really are struggling to call the list something other than ..._list, then use the shorthand _ls\n",
    "\n",
    "integer_ls = [1,2,3,4,5]"
   ]
  },
  {
   "cell_type": "code",
   "execution_count": 26,
   "metadata": {},
   "outputs": [],
   "source": [
    "# the most common list method is 'append'. Keep doing it, I dare you.\n",
    "integer_ls.append(6)\n",
    "integer_ls"
   ]
  },
  {
   "cell_type": "code",
   "execution_count": 27,
   "metadata": {},
   "outputs": [],
   "source": [
    "# extend is great for adding a list to a list - note the difference between the following two cells:"
   ]
  },
  {
   "cell_type": "code",
   "execution_count": 29,
   "metadata": {},
   "outputs": [
    {
     "data": {
      "text/plain": [
       "[1, 2, 3, 4, 5, 6, 7, 8]"
      ]
     },
     "execution_count": 29,
     "metadata": {},
     "output_type": "execute_result"
    }
   ],
   "source": [
    "integer_ls = [1,2,3,4,5]\n",
    "\n",
    "integer_ls.extend([6,7,8])\n",
    "integer_ls"
   ]
  },
  {
   "cell_type": "code",
   "execution_count": 30,
   "metadata": {},
   "outputs": [
    {
     "data": {
      "text/plain": [
       "[1, 2, 3, 4, 5, [6, 7, 8]]"
      ]
     },
     "execution_count": 30,
     "metadata": {},
     "output_type": "execute_result"
    }
   ],
   "source": [
    "integer_ls = [1,2,3,4,5]\n",
    "\n",
    "integer_ls.append([6,7,8])\n",
    "integer_ls"
   ]
  },
  {
   "cell_type": "code",
   "execution_count": 31,
   "metadata": {},
   "outputs": [
    {
     "data": {
      "text/plain": [
       "8"
      ]
     },
     "execution_count": 31,
     "metadata": {},
     "output_type": "execute_result"
    }
   ],
   "source": [
    "# how many items are in the list?\n",
    "integer_ls = [1,2,3,4,5]\n",
    "\n",
    "integer_ls.extend([6,7,8])\n",
    "len(integer_ls)"
   ]
  },
  {
   "cell_type": "code",
   "execution_count": 35,
   "metadata": {},
   "outputs": [
    {
     "data": {
      "text/plain": [
       "6"
      ]
     },
     "execution_count": 35,
     "metadata": {},
     "output_type": "execute_result"
    }
   ],
   "source": [
    "integer_ls = [1,2,3,4,5]\n",
    "\n",
    "integer_ls.append([6,7,8])\n",
    "len(integer_ls)"
   ]
  }
 ],
 "metadata": {
  "kernelspec": {
   "display_name": "Python 3",
   "language": "python",
   "name": "python3"
  },
  "language_info": {
   "codemirror_mode": {
    "name": "ipython",
    "version": 3
   },
   "file_extension": ".py",
   "mimetype": "text/x-python",
   "name": "python",
   "nbconvert_exporter": "python",
   "pygments_lexer": "ipython3",
   "version": "3.10.8"
  },
  "orig_nbformat": 4
 },
 "nbformat": 4,
 "nbformat_minor": 2
}
