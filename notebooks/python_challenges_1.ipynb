{
 "cells": [
  {
   "cell_type": "markdown",
   "metadata": {},
   "source": [
    "# Workshop Notebook 1\n",
    "This notebook contains some coding guidance and challenges for learning python data structures, and functions\n",
    "\n",
    "The intention is not that this is a comprehensive python course (there are far better ones to be found), but that it hits many of the edge cases for Good Python Programming usually not found until a little later in python courses.\n",
    "\n",
    "## Contents:\n",
    "- Jupyter Notebooks\n",
    "- Python Operators\n",
    "- Lists\n",
    "- Functions\n",
    "- Modules\n",
    "- Docstrings"
   ]
  },
  {
   "cell_type": "markdown",
   "metadata": {},
   "source": []
  },
  {
   "cell_type": "markdown",
   "metadata": {},
   "source": [
    "# Jupyter Notebooks\n",
    "This is a jupyter notebook - which is not quite a python file. There are boring and complicated differences we will come to - but there are two key differences we're interested in to start with.\n",
    "\n",
    "## Difference 1: We can run cells.\n",
    "\n",
    "Cells in the notebook can be run individually rather than having to run the whole code block. This is good for prototyping code, but can lead to problems if you start running the cells out of order."
   ]
  },
  {
   "cell_type": "code",
   "execution_count": 2,
   "metadata": {},
   "outputs": [
    {
     "name": "stdout",
     "output_type": "stream",
     "text": [
      "I have been run\n"
     ]
    }
   ],
   "source": [
    "# run me please - the shortcut is either shift+enter or ctrl+enter\n",
    "print('I have been run')"
   ]
  },
  {
   "cell_type": "markdown",
   "metadata": {},
   "source": [
    "## Difference 2: Magic commands\n",
    "The jupyter runtime allows us access to 'magic' commands which extend the functionality of the notebook. These look like '%magic'. Some of them are useful (%env tells us all the environment vars), and some are dangerous (%pastebin publicly uploads your code to pastebin). We'll mainly be using %timeit (see https://ipython.readthedocs.io/en/stable/interactive/magics.html#magic-timeit for the difference between %timeit and %%timeit)"
   ]
  },
  {
   "cell_type": "code",
   "execution_count": 3,
   "metadata": {},
   "outputs": [
    {
     "name": "stdout",
     "output_type": "stream",
     "text": [
      "8.31 ns ± 0.043 ns per loop (mean ± std. dev. of 7 runs, 100,000,000 loops each)\n"
     ]
    }
   ],
   "source": [
    "%timeit 3+5"
   ]
  },
  {
   "cell_type": "code",
   "execution_count": 4,
   "metadata": {},
   "outputs": [
    {
     "name": "stdout",
     "output_type": "stream",
     "text": [
      "7.14 ns ± 0.144 ns per loop (mean ± std. dev. of 7 runs, 100,000,000 loops each)\n"
     ]
    }
   ],
   "source": [
    "%%timeit\n",
    "3+5"
   ]
  },
  {
   "cell_type": "markdown",
   "metadata": {},
   "source": [
    "# Base Python Operators\n",
    "At its core, python exists on top of these base logical operators. Many of them you'll never ever use - but it's good to be familiar with the most common. The actual definition of a logical operator is reasonably tedious, but fundamentally they answer logical questions:\n",
    "\n",
    "https://www.tutorialspoint.com/python/python_operators.htm"
   ]
  },
  {
   "cell_type": "code",
   "execution_count": 5,
   "metadata": {},
   "outputs": [
    {
     "data": {
      "text/plain": [
       "True"
      ]
     },
     "execution_count": 5,
     "metadata": {},
     "output_type": "execute_result"
    }
   ],
   "source": [
    "# are these two things equal to each other? \n",
    "3 == 3"
   ]
  },
  {
   "cell_type": "code",
   "execution_count": 6,
   "metadata": {},
   "outputs": [
    {
     "data": {
      "text/plain": [
       "False"
      ]
     },
     "execution_count": 6,
     "metadata": {},
     "output_type": "execute_result"
    }
   ],
   "source": [
    "# what about these two?\n",
    "3 == '3'"
   ]
  },
  {
   "cell_type": "code",
   "execution_count": 7,
   "metadata": {},
   "outputs": [
    {
     "data": {
      "text/plain": [
       "5"
      ]
     },
     "execution_count": 7,
     "metadata": {},
     "output_type": "execute_result"
    }
   ],
   "source": [
    "# what is three plus two?\n",
    "3 + 2"
   ]
  },
  {
   "cell_type": "code",
   "execution_count": 8,
   "metadata": {},
   "outputs": [
    {
     "data": {
      "text/plain": [
       "1"
      ]
     },
     "execution_count": 8,
     "metadata": {},
     "output_type": "execute_result"
    }
   ],
   "source": [
    "# a less boring operator: modulus tells you the remainder from dividing the first number by the second\n",
    "3%2"
   ]
  },
  {
   "cell_type": "code",
   "execution_count": 9,
   "metadata": {},
   "outputs": [
    {
     "data": {
      "text/plain": [
       "0"
      ]
     },
     "execution_count": 9,
     "metadata": {},
     "output_type": "execute_result"
    }
   ],
   "source": [
    "9%3"
   ]
  },
  {
   "cell_type": "markdown",
   "metadata": {},
   "source": [
    "# Lists\n",
    "Another common data structure in python is the list. A list is an array, which is data with some intrinsic ordering. Lists are denoted in python with [], and can contain basically anything. They also have a number of methods that can operate on them. See below for the most common. (NOTE: it's good practice in python to keep lists generally containing the same sort of data. If you start mixing in strings with numbers and booleans without good reason, we're going to have a fight).\n",
    "\n",
    "You can also put lists in lists, and then lists into those - so beginning the descent into madness. If you start doing this, consider whether the logic of your code is sound, or you'd be better with a different data structure."
   ]
  },
  {
   "cell_type": "code",
   "execution_count": 10,
   "metadata": {},
   "outputs": [
    {
     "data": {
      "text/plain": [
       "[1, 2, 3, 4, 5]"
      ]
     },
     "execution_count": 10,
     "metadata": {},
     "output_type": "execute_result"
    }
   ],
   "source": [
    "# a list of integers:\n",
    "[1,2,3,4,5]"
   ]
  },
  {
   "cell_type": "code",
   "execution_count": 11,
   "metadata": {},
   "outputs": [],
   "source": [
    "# assigning the list to a variable - note in MLG's opinion it's not a good idea to name things with the word 'list'. If you really are struggling to call the list something other than ..._list, then use the shorthand _ls\n",
    "\n",
    "integer_ls = [1,2,3,4,5]"
   ]
  },
  {
   "cell_type": "code",
   "execution_count": 12,
   "metadata": {},
   "outputs": [
    {
     "data": {
      "text/plain": [
       "[1, 2, 3, 4, 5, 6]"
      ]
     },
     "execution_count": 12,
     "metadata": {},
     "output_type": "execute_result"
    }
   ],
   "source": [
    "# the most common list method is 'append'. Keep doing it, I dare you.\n",
    "integer_ls.append(6)\n",
    "integer_ls"
   ]
  },
  {
   "cell_type": "code",
   "execution_count": 13,
   "metadata": {},
   "outputs": [],
   "source": [
    "# extend is great for adding a list to a list - note the difference between the following two cells:"
   ]
  },
  {
   "cell_type": "code",
   "execution_count": 14,
   "metadata": {},
   "outputs": [
    {
     "data": {
      "text/plain": [
       "[1, 2, 3, 4, 5, 6, 7, 8]"
      ]
     },
     "execution_count": 14,
     "metadata": {},
     "output_type": "execute_result"
    }
   ],
   "source": [
    "integer_ls = [1,2,3,4,5]\n",
    "\n",
    "integer_ls.extend([6,7,8])\n",
    "integer_ls"
   ]
  },
  {
   "cell_type": "code",
   "execution_count": 15,
   "metadata": {},
   "outputs": [
    {
     "data": {
      "text/plain": [
       "[1, 2, 3, 4, 5, [6, 7, 8]]"
      ]
     },
     "execution_count": 15,
     "metadata": {},
     "output_type": "execute_result"
    }
   ],
   "source": [
    "integer_ls = [1,2,3,4,5]\n",
    "\n",
    "integer_ls.append([6,7,8])\n",
    "integer_ls"
   ]
  },
  {
   "cell_type": "code",
   "execution_count": 16,
   "metadata": {},
   "outputs": [
    {
     "data": {
      "text/plain": [
       "8"
      ]
     },
     "execution_count": 16,
     "metadata": {},
     "output_type": "execute_result"
    }
   ],
   "source": [
    "# how many items are in the list?\n",
    "integer_ls = [1,2,3,4,5]\n",
    "\n",
    "integer_ls.extend([6,7,8])\n",
    "len(integer_ls)"
   ]
  },
  {
   "cell_type": "code",
   "execution_count": 17,
   "metadata": {},
   "outputs": [
    {
     "data": {
      "text/plain": [
       "6"
      ]
     },
     "execution_count": 17,
     "metadata": {},
     "output_type": "execute_result"
    }
   ],
   "source": [
    "integer_ls = [1,2,3,4,5]\n",
    "\n",
    "integer_ls.append([6,7,8])\n",
    "len(integer_ls)"
   ]
  },
  {
   "cell_type": "markdown",
   "metadata": {},
   "source": [
    "Create some code to sum up the numbers in integer_ls\n",
    "\n",
    "Do it in two different ways - use a loop and then use a list method. Time both of them to understand which is quicker. There isn't a primer on loops here, but we'll go into it later. A for loop over a list might look like something in the below."
   ]
  },
  {
   "cell_type": "code",
   "execution_count": 19,
   "metadata": {},
   "outputs": [
    {
     "name": "stdout",
     "output_type": "stream",
     "text": [
      "1\n",
      "2\n",
      "3\n",
      "4\n",
      "5\n"
     ]
    }
   ],
   "source": [
    "integer_ls = [1,2,3,4,5]\n",
    "\n",
    "for i in range(len(integer_ls)):\n",
    "    print(integer_ls[i])"
   ]
  },
  {
   "cell_type": "code",
   "execution_count": 20,
   "metadata": {},
   "outputs": [],
   "source": [
    "# loop code goes here"
   ]
  },
  {
   "cell_type": "code",
   "execution_count": 21,
   "metadata": {},
   "outputs": [],
   "source": [
    "# method code goes here"
   ]
  },
  {
   "cell_type": "markdown",
   "metadata": {},
   "source": [
    "# Functions\n",
    "Functions allow us to package together code we'll use over and over - they tidy up our code, and also allow us a bunch of extra functionality"
   ]
  },
  {
   "cell_type": "code",
   "execution_count": 23,
   "metadata": {},
   "outputs": [
    {
     "name": "stdout",
     "output_type": "stream",
     "text": [
      "you called the function!\n"
     ]
    }
   ],
   "source": [
    "def an_amazing_function():\n",
    "    print('you called the function!')\n",
    "\n",
    "an_amazing_function()"
   ]
  },
  {
   "cell_type": "markdown",
   "metadata": {},
   "source": [
    "## Anatomy of a Function\n",
    "\n",
    "### Arguments"
   ]
  },
  {
   "cell_type": "code",
   "execution_count": 24,
   "metadata": {},
   "outputs": [
    {
     "name": "stdout",
     "output_type": "stream",
     "text": [
      "This function has recieved parameter_1 and parameter_2\n"
     ]
    }
   ],
   "source": [
    "def a_function_with_arguments(argument_1, argument_2):\n",
    "    print(f'This function has recieved {argument_1} and {argument_2}')\n",
    "\n",
    "a_function_with_arguments('parameter_1', 'parameter_2')"
   ]
  },
  {
   "cell_type": "code",
   "execution_count": 27,
   "metadata": {},
   "outputs": [
    {
     "name": "stdout",
     "output_type": "stream",
     "text": [
      "This function has recieved parameter_1 and parameter_2\n"
     ]
    }
   ],
   "source": [
    "# you can do this the other way around by using key word notation:\n",
    "\n",
    "a_function_with_arguments(argument_2='parameter_2', argument_1='parameter_1')"
   ]
  },
  {
   "cell_type": "code",
   "execution_count": 29,
   "metadata": {},
   "outputs": [
    {
     "name": "stdout",
     "output_type": "stream",
     "text": [
      "I have been passed param: param_1\n"
     ]
    }
   ],
   "source": [
    "# default parameters can also be passed\n",
    "def a_function_with_a_default_parameter(arg_1='param_1'):\n",
    "    print(f'I have been passed param: {arg_1}')\n",
    "\n",
    "a_function_with_a_default_parameter()"
   ]
  },
  {
   "cell_type": "code",
   "execution_count": 31,
   "metadata": {},
   "outputs": [
    {
     "ename": "NameError",
     "evalue": "name 'ans' is not defined",
     "output_type": "error",
     "traceback": [
      "\u001b[0;31m---------------------------------------------------------------------------\u001b[0m",
      "\u001b[0;31mNameError\u001b[0m                                 Traceback (most recent call last)",
      "Cell \u001b[0;32mIn[31], line 10\u001b[0m\n\u001b[1;32m      6\u001b[0m     ans \u001b[39m=\u001b[39m num1 \u001b[39m+\u001b[39m num2\n\u001b[1;32m      8\u001b[0m a_function_which_doesnt_return(\u001b[39m3\u001b[39m,\u001b[39m5\u001b[39m)\n\u001b[0;32m---> 10\u001b[0m \u001b[39mprint\u001b[39m(ans)\n",
      "\u001b[0;31mNameError\u001b[0m: name 'ans' is not defined"
     ]
    }
   ],
   "source": [
    "# probably the most important thing a function can do though, is return something - which allows to access objects from within that function\n",
    "\n",
    "# compare the two following functions, and note how the first one sort of looks like it should work, but doesn't\n",
    "\n",
    "def a_function_which_doesnt_return(num1, num2):\n",
    "    ans = num1 + num2\n",
    "\n",
    "a_function_which_doesnt_return(3,5)\n",
    "\n",
    "print(ans)"
   ]
  },
  {
   "cell_type": "code",
   "execution_count": 32,
   "metadata": {},
   "outputs": [
    {
     "name": "stdout",
     "output_type": "stream",
     "text": [
      "8\n"
     ]
    }
   ],
   "source": [
    "def a_function_which_does_return(num1, num2):\n",
    "    ans = num1 + num2\n",
    "    return ans\n",
    "\n",
    "value = a_function_which_does_return(3,5)\n",
    "print(value)"
   ]
  },
  {
   "cell_type": "code",
   "execution_count": null,
   "metadata": {},
   "outputs": [],
   "source": [
    "# take your quickest addition code from above, and package that into a function\n",
    "# use it to solve the following challenge:\n",
    "\n",
    "# https://projecteuler.net/problem=1\n"
   ]
  },
  {
   "cell_type": "markdown",
   "metadata": {},
   "source": [
    "# Modules\n",
    "\n",
    "A further abstraction of a function is to package them up into a module"
   ]
  },
  {
   "cell_type": "code",
   "execution_count": 2,
   "metadata": {},
   "outputs": [
    {
     "name": "stdout",
     "output_type": "stream",
     "text": [
      "\n",
      "    A function to which returns the next number in the collatz sequence.\n",
      "\n",
      "    Args:\n",
      "        num: The number to find the next value in the collatz sequence after\n",
      "\n",
      "    Returns:\n",
      "        The next number in the collatz sequence\n",
      "\n",
      "    Raises:\n",
      "        No error criteria implemented yet\n",
      "\n",
      "    TODO:\n",
      "        Implement error raising\n",
      "    \n"
     ]
    }
   ],
   "source": [
    "import collatz\n",
    "\n",
    "print(collatz.get_next.__doc__)"
   ]
  },
  {
   "cell_type": "markdown",
   "metadata": {},
   "source": [
    "# https://stackoverflow.com/questions/3898572/what-are-the-most-common-python-docstring-formats"
   ]
  },
  {
   "cell_type": "code",
   "execution_count": 4,
   "metadata": {},
   "outputs": [
    {
     "data": {
      "text/plain": [
       "3"
      ]
     },
     "execution_count": 4,
     "metadata": {},
     "output_type": "execute_result"
    }
   ],
   "source": [
    "collatz.get_next(6)"
   ]
  },
  {
   "cell_type": "code",
   "execution_count": 5,
   "metadata": {},
   "outputs": [],
   "source": [
    "# use that to solve this problem:\n",
    "# https://projecteuler.net/problem=14"
   ]
  }
 ],
 "metadata": {
  "kernelspec": {
   "display_name": "Python 3",
   "language": "python",
   "name": "python3"
  },
  "language_info": {
   "codemirror_mode": {
    "name": "ipython",
    "version": 3
   },
   "file_extension": ".py",
   "mimetype": "text/x-python",
   "name": "python",
   "nbconvert_exporter": "python",
   "pygments_lexer": "ipython3",
   "version": "3.10.8"
  },
  "orig_nbformat": 4
 },
 "nbformat": 4,
 "nbformat_minor": 2
}
